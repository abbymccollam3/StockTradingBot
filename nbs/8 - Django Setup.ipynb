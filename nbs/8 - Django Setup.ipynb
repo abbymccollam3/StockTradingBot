{
 "cells": [
  {
   "cell_type": "code",
   "execution_count": null,
   "id": "d0eaef58-6b5a-46b1-be1d-120ccc28fc47",
   "metadata": {},
   "outputs": [],
   "source": []
  }
 ],
 "metadata": {
  "kernelspec": {
   "display_name": "",
   "name": ""
  },
  "language_info": {
   "name": ""
  }
 },
 "nbformat": 4,
 "nbformat_minor": 5
}
