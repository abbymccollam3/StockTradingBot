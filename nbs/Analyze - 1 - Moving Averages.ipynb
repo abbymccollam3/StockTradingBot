{
 "cells": [
  {
   "cell_type": "code",
   "execution_count": 46,
   "id": "db883e48-3469-4ab2-98d8-cce71d236cc8",
   "metadata": {},
   "outputs": [],
   "source": [
    "import setup\n",
    "setup.init_django()"
   ]
  },
  {
   "cell_type": "code",
   "execution_count": 47,
   "id": "7b3e1b19-ee8c-474c-a2ea-7ab22c02df77",
   "metadata": {},
   "outputs": [],
   "source": [
    "from market.models import StockQuote"
   ]
  },
  {
   "cell_type": "code",
   "execution_count": 48,
   "id": "3df9674d-ecee-40fd-afc9-f21e80101b56",
   "metadata": {},
   "outputs": [],
   "source": [
    "from django.db.models import Avg, F, RowRange, Window\n",
    "from django.utils import timezone\n",
    "from datetime import timedelta\n",
    "from decimal import Decimal"
   ]
  },
  {
   "cell_type": "code",
   "execution_count": 49,
   "id": "d0962a99-16be-4f15-b24a-201bf71e4b25",
   "metadata": {},
   "outputs": [
    {
     "data": {
      "text/plain": [
       "4340"
      ]
     },
     "execution_count": 49,
     "metadata": {},
     "output_type": "execute_result"
    }
   ],
   "source": [
    "days_ago = 30\n",
    "now = timezone.now()\n",
    "start_date = now - timedelta(days=30)\n",
    "end_date = now\n",
    "\n",
    "# filtering data\n",
    "qs = StockQuote.objects.filter(time__range=(start_date, end_date))\n",
    "qs.count()"
   ]
  },
  {
   "cell_type": "code",
   "execution_count": 50,
   "id": "2b3475e9-9f24-48c4-b243-8e2d1070f6fd",
   "metadata": {},
   "outputs": [],
   "source": [
    "total = 0\n",
    "for obj in qs:\n",
    "    total += obj.close_price"
   ]
  },
  {
   "cell_type": "code",
   "execution_count": 51,
   "id": "a9d72fb8-e7b6-4a25-8801-aaffcd795eaf",
   "metadata": {},
   "outputs": [
    {
     "data": {
      "text/plain": [
       "Decimal('219.3371326958525345622119816')"
      ]
     },
     "execution_count": 51,
     "metadata": {},
     "output_type": "execute_result"
    }
   ],
   "source": [
    "total /qs.count()"
   ]
  },
  {
   "cell_type": "code",
   "execution_count": 52,
   "id": "bd75bc80-9944-4040-bd87-06406e406f34",
   "metadata": {},
   "outputs": [
    {
     "data": {
      "text/plain": [
       "<QuerySet [{'company': 2, 'avg_price': Decimal('170.1696036020583190')}, {'company': 1, 'avg_price': Decimal('226.9668025019962736')}]>"
      ]
     },
     "execution_count": 52,
     "metadata": {},
     "output_type": "execute_result"
    }
   ],
   "source": [
    "# average prices for entire month\n",
    "qs.values('company').annotate(avg_price=Avg('close_price'))"
   ]
  },
  {
   "cell_type": "code",
   "execution_count": 53,
   "id": "a58d27f6-db14-4f66-8a93-55ccb2f2ddbb",
   "metadata": {},
   "outputs": [],
   "source": [
    "count = 5\n",
    "ticker = \"AAPL\"\n",
    "rolling_qs = list(qs.filter(company__ticker = ticker).order_by('time')[:count]) # grabbing orginal window\n",
    "rolling_qs.reverse() # orginal time order"
   ]
  },
  {
   "cell_type": "code",
   "execution_count": 54,
   "id": "f0cad8f3-7fa2-4fb1-b28e-130cba25f67e",
   "metadata": {},
   "outputs": [
    {
     "data": {
      "text/plain": [
       "[<StockQuote: StockQuote object (313486)>,\n",
       " <StockQuote: StockQuote object (313485)>,\n",
       " <StockQuote: StockQuote object (313484)>,\n",
       " <StockQuote: StockQuote object (313483)>,\n",
       " <StockQuote: StockQuote object (313482)>]"
      ]
     },
     "execution_count": 54,
     "metadata": {},
     "output_type": "execute_result"
    }
   ],
   "source": [
    "rolling_qs"
   ]
  },
  {
   "cell_type": "code",
   "execution_count": 55,
   "id": "0225ee91-07bc-4dc1-b5a5-efe4f0e8cdcd",
   "metadata": {},
   "outputs": [
    {
     "name": "stdout",
     "output_type": "stream",
     "text": [
      "1 313486 234.4180 234.4180\n",
      "2 313485 234.5550 234.4865\n",
      "3 313484 234.6300 234.5343333333333333333333333\n",
      "4 313483 234.4250 234.5070\n",
      "5 313482 234.5300 234.5116\n"
     ]
    }
   ],
   "source": [
    "total = 0\n",
    "for i, obj in enumerate(rolling_qs):\n",
    "    total += obj.close_price\n",
    "    avg = total / (i + 1)\n",
    "    print(i + 1, obj.id, obj.close_price, avg)"
   ]
  },
  {
   "cell_type": "code",
   "execution_count": 56,
   "id": "b53aff48-730f-401c-9ee6-d6d91c2c47d0",
   "metadata": {},
   "outputs": [],
   "source": [
    "qs = StockQuote.objects.filter(company__ticker = ticker, time__range=(start_date, end_date))"
   ]
  },
  {
   "cell_type": "code",
   "execution_count": 62,
   "id": "c8e956d3-dc80-4cfc-8771-f74360080456",
   "metadata": {},
   "outputs": [],
   "source": [
    "frame_start = -(count - 1)\n",
    "ma_val = qs.annotate(\n",
    "        ma = Window(\n",
    "            expression=Avg('close_price'),\n",
    "            order_by=F('time').asc(),\n",
    "            partition_by=[],\n",
    "            frame = RowRange(start=frame_start, end=0), # based on amount we want to get\n",
    "        )\n",
    ").order_by('-time')"
   ]
  },
  {
   "cell_type": "code",
   "execution_count": 64,
   "id": "2350c58a-8659-4a14-8042-afbc270b0f15",
   "metadata": {},
   "outputs": [
    {
     "name": "stdout",
     "output_type": "stream",
     "text": [
      "330238 235.5300 235.5260000000000000\n",
      "330237 235.3600 235.5400000000000000\n",
      "330236 235.4900 235.5833600000000000\n",
      "330235 235.6000 235.6113600000000000\n",
      "330234 235.6500 235.6153600000000000\n"
     ]
    }
   ],
   "source": [
    "for obj in ma_val[:5]:\n",
    "    print(obj.id, obj.close_price, obj.ma)"
   ]
  },
  {
   "cell_type": "code",
   "execution_count": 65,
   "id": "c07946fa-7e5e-4d8b-a33e-dd93ca242043",
   "metadata": {},
   "outputs": [
    {
     "ename": "SyntaxError",
     "evalue": "invalid syntax. Perhaps you forgot a comma? (2352431156.py, line 3)",
     "output_type": "error",
     "traceback": [
      "\u001b[0;36m  Cell \u001b[0;32mIn[65], line 3\u001b[0;36m\u001b[0m\n\u001b[0;31m    ma_5 = Window(\u001b[0m\n\u001b[0m           ^\u001b[0m\n\u001b[0;31mSyntaxError\u001b[0m\u001b[0;31m:\u001b[0m invalid syntax. Perhaps you forgot a comma?\n"
     ]
    }
   ],
   "source": [
    "frame_start = -(count - 1)\n",
    "ma_vals = qs.annotate(\n",
    "        ma_5 = Window(\n",
    "            expression=Avg('close_price'),\n",
    "            order_by=F('time').asc(),\n",
    "            partition_by=[],\n",
    "            frame = RowRange(start=-4, end=0), # based on amount we want to get\n",
    "        ),\n",
    "        ma_20 = Window(\n",
    "            expression=Avg('close_price'),\n",
    "            order_by=F('time').asc(),\n",
    "            partition_by=[],\n",
    "            frame = RowRange(start=-19, end=0), # based on amount we want to get\n",
    "        )\n",
    ").order_by('-time').first()\n",
    "\n",
    "ma_vals.id, ma_vals.close_price, ma_vals.ma_5, ma_vals.ma_20"
   ]
  },
  {
   "cell_type": "code",
   "execution_count": null,
   "id": "ad8e16d4-9758-4a14-a7c9-cbf4143711b5",
   "metadata": {},
   "outputs": [],
   "source": []
  }
 ],
 "metadata": {
  "kernelspec": {
   "display_name": "Python 3 (ipykernel)",
   "language": "python",
   "name": "python3"
  },
  "language_info": {
   "codemirror_mode": {
    "name": "ipython",
    "version": 3
   },
   "file_extension": ".py",
   "mimetype": "text/x-python",
   "name": "python",
   "nbconvert_exporter": "python",
   "pygments_lexer": "ipython3",
   "version": "3.12.1"
  }
 },
 "nbformat": 4,
 "nbformat_minor": 5
}
