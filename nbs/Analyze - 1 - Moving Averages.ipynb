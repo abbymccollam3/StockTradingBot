{
 "cells": [
  {
   "cell_type": "code",
   "execution_count": 33,
   "id": "db883e48-3469-4ab2-98d8-cce71d236cc8",
   "metadata": {},
   "outputs": [],
   "source": [
    "import setup\n",
    "setup.init_django()"
   ]
  },
  {
   "cell_type": "code",
   "execution_count": 34,
   "id": "7b3e1b19-ee8c-474c-a2ea-7ab22c02df77",
   "metadata": {},
   "outputs": [],
   "source": [
    "from market.models import StockQuote"
   ]
  },
  {
   "cell_type": "code",
   "execution_count": 35,
   "id": "3df9674d-ecee-40fd-afc9-f21e80101b56",
   "metadata": {},
   "outputs": [],
   "source": [
    "from django.db.models import Avg, F, RowRange, Window\n",
    "from django.utils import timezone\n",
    "from datetime import timedelta\n",
    "from decimal import Decimal"
   ]
  },
  {
   "cell_type": "code",
   "execution_count": 36,
   "id": "d0962a99-16be-4f15-b24a-201bf71e4b25",
   "metadata": {},
   "outputs": [
    {
     "data": {
      "text/plain": [
       "4342"
      ]
     },
     "execution_count": 36,
     "metadata": {},
     "output_type": "execute_result"
    }
   ],
   "source": [
    "days_ago = 30\n",
    "now = timezone.now()\n",
    "start_date = now - timedelta(days=30)\n",
    "end_date = now\n",
    "\n",
    "# filtering data\n",
    "qs = StockQuote.objects.filter(time__range=(start_date, end_date))\n",
    "qs.count()"
   ]
  },
  {
   "cell_type": "code",
   "execution_count": 37,
   "id": "2b3475e9-9f24-48c4-b243-8e2d1070f6fd",
   "metadata": {},
   "outputs": [],
   "source": [
    "total = 0\n",
    "for obj in qs:\n",
    "    total += obj.close_price"
   ]
  },
  {
   "cell_type": "code",
   "execution_count": 38,
   "id": "a9d72fb8-e7b6-4a25-8801-aaffcd795eaf",
   "metadata": {},
   "outputs": [
    {
     "data": {
      "text/plain": [
       "Decimal('219.3440179410409949332105021')"
      ]
     },
     "execution_count": 38,
     "metadata": {},
     "output_type": "execute_result"
    }
   ],
   "source": [
    "total /qs.count()"
   ]
  },
  {
   "cell_type": "code",
   "execution_count": 39,
   "id": "bd75bc80-9944-4040-bd87-06406e406f34",
   "metadata": {},
   "outputs": [
    {
     "data": {
      "text/plain": [
       "<QuerySet [{'company': 2, 'avg_price': Decimal('170.1696036020583190')}, {'company': 1, 'avg_price': Decimal('226.9706961957967545')}]>"
      ]
     },
     "execution_count": 39,
     "metadata": {},
     "output_type": "execute_result"
    }
   ],
   "source": [
    "# average prices for entire month\n",
    "qs.values('company').annotate(avg_price=Avg('close_price'))"
   ]
  },
  {
   "cell_type": "code",
   "execution_count": 41,
   "id": "a58d27f6-db14-4f66-8a93-55ccb2f2ddbb",
   "metadata": {},
   "outputs": [],
   "source": [
    "count = 5\n",
    "ticker = \"AAPL\"\n",
    "rolling_qs = list(qs.filter(company__ticker = ticker).order_by('time')[:count]) # grabbing orginal window\n",
    "rolling_qs.reverse() # orginal time order"
   ]
  },
  {
   "cell_type": "code",
   "execution_count": 42,
   "id": "f0cad8f3-7fa2-4fb1-b28e-130cba25f67e",
   "metadata": {},
   "outputs": [
    {
     "data": {
      "text/plain": [
       "[<StockQuote: StockQuote object (313484)>,\n",
       " <StockQuote: StockQuote object (313483)>,\n",
       " <StockQuote: StockQuote object (313482)>,\n",
       " <StockQuote: StockQuote object (313481)>,\n",
       " <StockQuote: StockQuote object (313480)>]"
      ]
     },
     "execution_count": 42,
     "metadata": {},
     "output_type": "execute_result"
    }
   ],
   "source": [
    "rolling_qs"
   ]
  },
  {
   "cell_type": "code",
   "execution_count": 44,
   "id": "0225ee91-07bc-4dc1-b5a5-efe4f0e8cdcd",
   "metadata": {},
   "outputs": [
    {
     "name": "stdout",
     "output_type": "stream",
     "text": [
      "1 313484 234.6300 234.6300\n",
      "2 313483 234.4250 234.5275\n",
      "3 313482 234.5300 234.5283333333333333333333333\n",
      "4 313481 234.5000 234.52125\n",
      "5 313480 234.0700 234.4310\n"
     ]
    }
   ],
   "source": [
    "total = 0\n",
    "for i, obj in enumerate(rolling_qs):\n",
    "    total += obj.close_price\n",
    "    avg = total / (i + 1)\n",
    "    print(i + 1, obj.id, obj.close_price, avg)"
   ]
  },
  {
   "cell_type": "code",
   "execution_count": 45,
   "id": "b53aff48-730f-401c-9ee6-d6d91c2c47d0",
   "metadata": {},
   "outputs": [],
   "source": [
    "qs = StockQuote.objects.filter(company__ticker = ticker, time__range=(start_date, end_date))"
   ]
  },
  {
   "cell_type": "code",
   "execution_count": null,
   "id": "c8e956d3-dc80-4cfc-8771-f74360080456",
   "metadata": {},
   "outputs": [],
   "source": [
    "frame_start = -(count - 1)\n",
    "ma_val = qs.annotate(\n",
    "        ma = Window(\n",
    "            expression=Avg('close_price'),\n",
    "            order_by=F('time').asc(),\n",
    "            partition_by=\n",
    "            frame = RowRange(start=frame_start, end=0), # based on amount we want to get\n",
    "        )\n",
    ")    \n"
   ]
  }
 ],
 "metadata": {
  "kernelspec": {
   "display_name": "Python 3 (ipykernel)",
   "language": "python",
   "name": "python3"
  },
  "language_info": {
   "codemirror_mode": {
    "name": "ipython",
    "version": 3
   },
   "file_extension": ".py",
   "mimetype": "text/x-python",
   "name": "python",
   "nbconvert_exporter": "python",
   "pygments_lexer": "ipython3",
   "version": "3.12.1"
  }
 },
 "nbformat": 4,
 "nbformat_minor": 5
}
