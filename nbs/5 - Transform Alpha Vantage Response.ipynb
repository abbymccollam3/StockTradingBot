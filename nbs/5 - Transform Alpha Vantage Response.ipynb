{
 "cells": [
  {
   "cell_type": "code",
   "execution_count": 1,
   "id": "9f344814-a108-420b-996f-5120414b7070",
   "metadata": {},
   "outputs": [],
   "source": [
    "from decouple import config"
   ]
  },
  {
   "cell_type": "code",
   "execution_count": 2,
   "id": "7d7566a4-c4f9-415b-a97b-2f97c3af7cc9",
   "metadata": {},
   "outputs": [
    {
     "data": {
      "text/plain": [
       "'B9YN3L7WUIYJMRS1'"
      ]
     },
     "execution_count": 2,
     "metadata": {},
     "output_type": "execute_result"
    }
   ],
   "source": [
    "config(\"ALPHA_VANTAGE_API_KEY\")"
   ]
  },
  {
   "cell_type": "code",
   "execution_count": 3,
   "id": "74e4a6c7-cee2-462e-8239-429fc05483ba",
   "metadata": {},
   "outputs": [],
   "source": [
    "assert config(\"ALPHA_VANTAGE_API_KEY\", default=None, cast=str) is not None"
   ]
  },
  {
   "cell_type": "code",
   "execution_count": 4,
   "id": "c9b68f04-c864-4de9-89cd-32a5f02f866e",
   "metadata": {},
   "outputs": [],
   "source": [
    "ALPHA_VANTAGE_API_KEY = config(\"ALPHA_VANTAGE_API_KEY\", default=None, cast=str) "
   ]
  },
  {
   "cell_type": "code",
   "execution_count": 5,
   "id": "3cd0ae91-a296-4b90-8403-587358791bfb",
   "metadata": {},
   "outputs": [],
   "source": [
    "import requests\n",
    "\n",
    "# replace the \"demo\" apikey below with your own key from https://www.alphavantage.co/support/#api-key\n",
    "\n",
    "api_key = ALPHA_VANTAGE_API_KEY\n",
    "\n",
    "params = {\n",
    "    \"api_key\": ALPHA_VANTAGE_API_KEY,\n",
    "    \"ticker\": \"AAPL\",\n",
    "}\n",
    "\n",
    "url = 'https://www.alphavantage.co/query?function=TIME_SERIES_INTRADAY&symbol={ticker}&interval=5min&apikey={api_key}'.format(\n",
    "    **params\n",
    ")\n",
    "\n",
    "r = requests.get(url)\n",
    "data = r.json()"
   ]
  },
  {
   "cell_type": "code",
   "execution_count": 9,
   "id": "a61e1ac1-7496-4259-8a2b-e7d2a5aaef26",
   "metadata": {},
   "outputs": [
    {
     "data": {
      "text/plain": [
       "'Time Series (5min)'"
      ]
     },
     "execution_count": 9,
     "metadata": {},
     "output_type": "execute_result"
    }
   ],
   "source": [
    "dataset_key = list(data.keys())[1]\n",
    "dataset_key"
   ]
  },
  {
   "cell_type": "code",
   "execution_count": 13,
   "id": "03b9fa30-7b3e-415b-85bc-383a1d78fbbe",
   "metadata": {},
   "outputs": [],
   "source": [
    "results = data[dataset_key]\n",
    "# for timestamp_str in results.keys():\n",
    "#     print(timestamp_str)"
   ]
  },
  {
   "cell_type": "code",
   "execution_count": 41,
   "id": "04277477-b2ac-4a93-ad04-4b956c611f5a",
   "metadata": {},
   "outputs": [],
   "source": [
    "timestamp_str = list(results.keys())[0]"
   ]
  },
  {
   "cell_type": "code",
   "execution_count": 42,
   "id": "f86a4fc5-f3f4-4be4-822e-61a353c06a99",
   "metadata": {},
   "outputs": [
    {
     "data": {
      "text/plain": [
       "{'1. open': '228.0800',\n",
       " '2. high': '228.1000',\n",
       " '3. low': '228.0600',\n",
       " '4. close': '228.1000',\n",
       " '5. volume': '786'}"
      ]
     },
     "execution_count": 42,
     "metadata": {},
     "output_type": "execute_result"
    }
   ],
   "source": [
    "result_val = results.get(timestamp_str)\n",
    "result_val"
   ]
  },
  {
   "cell_type": "code",
   "execution_count": 43,
   "id": "93283c26-5af2-40f0-8955-a44f3b4a713a",
   "metadata": {},
   "outputs": [],
   "source": [
    "import pytz\n",
    "from datetime import datetime\n",
    "from decimal import Decimal\n",
    "\n",
    "def transform_alpha_vantage_result(timestamp_str, result_val):\n",
    "    # unix_timestamp = result.get('t') / 1000\n",
    "    # utc_timestamp = datetime.fromtimestamp(unix_timestamp, tz=pytz.timezone('UTC'))\n",
    "    timestamp_format = '%Y-%m-%d %H:%M:%S'\n",
    "    eastern = pytz.timezone(\"US/Eastern\")\n",
    "    utc = pytz.utc\n",
    "    timestamp = eastern.localize(datetime.strptime(timestamp_str, timestamp_format)).astimezone(utc)\n",
    "    return {\n",
    "     'open_price': Decimal(result_val['1. open']),\n",
    "     'close_price': Decimal(result_val['4. close']),\n",
    "     'high_price': Decimal(result_val['2. high']),\n",
    "     'low_price': Decimal(result_val['3. low']),\n",
    "     'volume': int(result_val['5. volume']),\n",
    "     'time': timestamp,\n",
    "    }"
   ]
  },
  {
   "cell_type": "code",
   "execution_count": 44,
   "id": "d638d687-8453-4c43-8696-81c52a364246",
   "metadata": {},
   "outputs": [
    {
     "data": {
      "text/plain": [
       "{'open_price': Decimal('228.0800'),\n",
       " 'close_price': Decimal('228.1000'),\n",
       " 'high_price': Decimal('228.1000'),\n",
       " 'low_price': Decimal('228.0600'),\n",
       " 'volume': 786,\n",
       " 'time': datetime.datetime(2024, 11, 19, 0, 55, tzinfo=<UTC>)}"
      ]
     },
     "execution_count": 44,
     "metadata": {},
     "output_type": "execute_result"
    }
   ],
   "source": [
    "transform_alpha_vantage_result(timestamp_str, result_val)"
   ]
  },
  {
   "cell_type": "code",
   "execution_count": null,
   "id": "f6ee0598-b3bf-42a3-b0a7-f0e9cc059359",
   "metadata": {},
   "outputs": [],
   "source": [
    "for timestamp_str in results.keys():\n",
    "    new_data = transform_alpha_vantage_result(timestamp_str, result_val)\n",
    "    print(new_data)"
   ]
  }
 ],
 "metadata": {
  "kernelspec": {
   "display_name": "Python 3 (ipykernel)",
   "language": "python",
   "name": "python3"
  },
  "language_info": {
   "codemirror_mode": {
    "name": "ipython",
    "version": 3
   },
   "file_extension": ".py",
   "mimetype": "text/x-python",
   "name": "python",
   "nbconvert_exporter": "python",
   "pygments_lexer": "ipython3",
   "version": "3.12.1"
  }
 },
 "nbformat": 4,
 "nbformat_minor": 5
}
