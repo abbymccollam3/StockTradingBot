{
 "cells": [
  {
   "cell_type": "code",
   "execution_count": 1,
   "id": "d0eaef58-6b5a-46b1-be1d-120ccc28fc47",
   "metadata": {},
   "outputs": [],
   "source": [
    "# need to run these every time\n",
    "import setup\n",
    "setup.init_django()"
   ]
  },
  {
   "cell_type": "code",
   "execution_count": 2,
   "id": "62b0052f-165e-4927-8bbd-f3567302f105",
   "metadata": {},
   "outputs": [],
   "source": [
    "from market.models import *"
   ]
  },
  {
   "cell_type": "code",
   "execution_count": 3,
   "id": "441fda25-7680-411c-9c11-1c2203270954",
   "metadata": {},
   "outputs": [
    {
     "data": {
      "text/plain": [
       "2"
      ]
     },
     "execution_count": 3,
     "metadata": {},
     "output_type": "execute_result"
    }
   ],
   "source": [
    "qs = Company.objects.all()\n",
    "qs.count()"
   ]
  },
  {
   "cell_type": "code",
   "execution_count": null,
   "id": "d5c5c99a-b43d-4aae-aace-d21087cd36cf",
   "metadata": {},
   "outputs": [],
   "source": [
    "stocks = StockQuote.objects.all()\n",
    "stocks.count()"
   ]
  },
  {
   "cell_type": "code",
   "execution_count": null,
   "id": "105203fa-31ce-4803-8312-9b7796ff136b",
   "metadata": {},
   "outputs": [],
   "source": [
    "start_from_scratch = True\n",
    "if "
   ]
  }
 ],
 "metadata": {
  "kernelspec": {
   "display_name": "Python 3 (ipykernel)",
   "language": "python",
   "name": "python3"
  },
  "language_info": {
   "codemirror_mode": {
    "name": "ipython",
    "version": 3
   },
   "file_extension": ".py",
   "mimetype": "text/x-python",
   "name": "python",
   "nbconvert_exporter": "python",
   "pygments_lexer": "ipython3",
   "version": "3.12.1"
  }
 },
 "nbformat": 4,
 "nbformat_minor": 5
}
