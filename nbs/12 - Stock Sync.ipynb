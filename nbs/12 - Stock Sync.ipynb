{
 "cells": [
  {
   "cell_type": "code",
   "execution_count": 12,
   "id": "d0eaef58-6b5a-46b1-be1d-120ccc28fc47",
   "metadata": {},
   "outputs": [],
   "source": [
    "# need to run these every time\n",
    "import setup\n",
    "setup.init_django()"
   ]
  },
  {
   "cell_type": "code",
   "execution_count": 13,
   "id": "62b0052f-165e-4927-8bbd-f3567302f105",
   "metadata": {},
   "outputs": [],
   "source": [
    "from market.models import *"
   ]
  },
  {
   "cell_type": "code",
   "execution_count": 14,
   "id": "441fda25-7680-411c-9c11-1c2203270954",
   "metadata": {},
   "outputs": [
    {
     "data": {
      "text/plain": [
       "4"
      ]
     },
     "execution_count": 14,
     "metadata": {},
     "output_type": "execute_result"
    }
   ],
   "source": [
    "qs = Company.objects.all()\n",
    "qs.count()"
   ]
  },
  {
   "cell_type": "code",
   "execution_count": 15,
   "id": "82d25464-1f5c-49b4-8d31-3342aed9498f",
   "metadata": {},
   "outputs": [],
   "source": [
    "obj, created = Company.objects.get_or_create(name='Meta', ticker='META')\n",
    "obj.save()\n",
    "# force ticker to be upper case"
   ]
  },
  {
   "cell_type": "code",
   "execution_count": 16,
   "id": "b53dfc30-3a96-4c7f-91a8-31c4640327d3",
   "metadata": {},
   "outputs": [],
   "source": [
    "for company in qs:\n",
    "    company.save()"
   ]
  },
  {
   "cell_type": "code",
   "execution_count": 17,
   "id": "bb0bec58-9cde-42e2-bd74-b417b90f1268",
   "metadata": {},
   "outputs": [],
   "source": [
    "# Company.objects.create(name='Microsoft', ticker='MSFT')"
   ]
  },
  {
   "cell_type": "code",
   "execution_count": 18,
   "id": "d5c5c99a-b43d-4aae-aace-d21087cd36cf",
   "metadata": {},
   "outputs": [
    {
     "data": {
      "text/plain": [
       "34"
      ]
     },
     "execution_count": 18,
     "metadata": {},
     "output_type": "execute_result"
    }
   ],
   "source": [
    "stocks = StockQuote.objects.all()\n",
    "stocks.count()"
   ]
  },
  {
   "cell_type": "code",
   "execution_count": 19,
   "id": "105203fa-31ce-4803-8312-9b7796ff136b",
   "metadata": {},
   "outputs": [],
   "source": [
    "start_from_scratch = True\n",
    "if start_from_scratch:\n",
    "    stocks.delete()"
   ]
  },
  {
   "cell_type": "code",
   "execution_count": 20,
   "id": "47fd7f0b-dea2-435d-893d-908eb2535efc",
   "metadata": {},
   "outputs": [],
   "source": [
    "from market import tasks as market_tasks"
   ]
  },
  {
   "cell_type": "code",
   "execution_count": 21,
   "id": "f2fbbbdb-d8e9-43bf-8cfd-a592b235865d",
   "metadata": {},
   "outputs": [
    {
     "data": {
      "text/plain": [
       "<AsyncResult: 3993733b-2050-4259-87f4-2f612e1bcfb1>"
      ]
     },
     "execution_count": 21,
     "metadata": {},
     "output_type": "execute_result"
    }
   ],
   "source": [
    "market_tasks.sync_stock_data.delay()"
   ]
  },
  {
   "cell_type": "code",
   "execution_count": 22,
   "id": "f2fba14c-77a4-4617-8632-65f4055ed7b5",
   "metadata": {},
   "outputs": [
    {
     "data": {
      "text/plain": [
       "0"
      ]
     },
     "execution_count": 22,
     "metadata": {},
     "output_type": "execute_result"
    }
   ],
   "source": [
    "StockQuote.objects.all().count()"
   ]
  },
  {
   "cell_type": "code",
   "execution_count": null,
   "id": "6262414f-14cc-4e01-9f0a-8a662b05499f",
   "metadata": {},
   "outputs": [],
   "source": []
  }
 ],
 "metadata": {
  "kernelspec": {
   "display_name": "Python 3 (ipykernel)",
   "language": "python",
   "name": "python3"
  },
  "language_info": {
   "codemirror_mode": {
    "name": "ipython",
    "version": 3
   },
   "file_extension": ".py",
   "mimetype": "text/x-python",
   "name": "python",
   "nbconvert_exporter": "python",
   "pygments_lexer": "ipython3",
   "version": "3.12.1"
  }
 },
 "nbformat": 4,
 "nbformat_minor": 5
}
