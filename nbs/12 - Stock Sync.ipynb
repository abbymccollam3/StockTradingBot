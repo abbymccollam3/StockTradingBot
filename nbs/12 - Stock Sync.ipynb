{
 "cells": [
  {
   "cell_type": "code",
   "execution_count": 9,
   "id": "d0eaef58-6b5a-46b1-be1d-120ccc28fc47",
   "metadata": {},
   "outputs": [],
   "source": [
    "# need to run these every time\n",
    "import setup\n",
    "setup.init_django()"
   ]
  },
  {
   "cell_type": "code",
   "execution_count": 10,
   "id": "62b0052f-165e-4927-8bbd-f3567302f105",
   "metadata": {},
   "outputs": [],
   "source": [
    "from market.models import *"
   ]
  },
  {
   "cell_type": "code",
   "execution_count": 11,
   "id": "441fda25-7680-411c-9c11-1c2203270954",
   "metadata": {},
   "outputs": [
    {
     "data": {
      "text/plain": [
       "2"
      ]
     },
     "execution_count": 11,
     "metadata": {},
     "output_type": "execute_result"
    }
   ],
   "source": [
    "qs = Company.objects.all()\n",
    "qs.count()"
   ]
  },
  {
   "cell_type": "code",
   "execution_count": 12,
   "id": "82d25464-1f5c-49b4-8d31-3342aed9498f",
   "metadata": {},
   "outputs": [
    {
     "data": {
      "text/plain": [
       "(<Company: Company object (3)>, True)"
      ]
     },
     "execution_count": 12,
     "metadata": {},
     "output_type": "execute_result"
    }
   ],
   "source": [
    "Company.objects.get_or_create(name='Meta', ticker='META')\n",
    "# force ticker to be upper case"
   ]
  },
  {
   "cell_type": "code",
   "execution_count": 13,
   "id": "d5c5c99a-b43d-4aae-aace-d21087cd36cf",
   "metadata": {},
   "outputs": [
    {
     "data": {
      "text/plain": [
       "2430"
      ]
     },
     "execution_count": 13,
     "metadata": {},
     "output_type": "execute_result"
    }
   ],
   "source": [
    "stocks = StockQuote.objects.all()\n",
    "stocks.count()"
   ]
  },
  {
   "cell_type": "code",
   "execution_count": 14,
   "id": "105203fa-31ce-4803-8312-9b7796ff136b",
   "metadata": {},
   "outputs": [],
   "source": [
    "start_from_scratch = False\n",
    "if start_from_scratch:\n",
    "    stocks.delete()"
   ]
  },
  {
   "cell_type": "code",
   "execution_count": 15,
   "id": "47fd7f0b-dea2-435d-893d-908eb2535efc",
   "metadata": {},
   "outputs": [],
   "source": [
    "from market import tasks as market_tasks"
   ]
  },
  {
   "cell_type": "code",
   "execution_count": 16,
   "id": "f2fbbbdb-d8e9-43bf-8cfd-a592b235865d",
   "metadata": {},
   "outputs": [
    {
     "ename": "KeyError",
     "evalue": "'results'",
     "output_type": "error",
     "traceback": [
      "\u001b[0;31m---------------------------------------------------------------------------\u001b[0m",
      "\u001b[0;31mKeyError\u001b[0m                                  Traceback (most recent call last)",
      "Cell \u001b[0;32mIn[16], line 1\u001b[0m\n\u001b[0;32m----> 1\u001b[0m \u001b[43mmarket_tasks\u001b[49m\u001b[38;5;241;43m.\u001b[39;49m\u001b[43msync_stock_data\u001b[49m\u001b[43m(\u001b[49m\u001b[43m)\u001b[49m\n",
      "File \u001b[0;32m~/Desktop/StockTradingBot-1/src/market/tasks.py:39\u001b[0m, in \u001b[0;36msync_stock_data\u001b[0;34m()\u001b[0m\n\u001b[1;32m     37\u001b[0m companies \u001b[38;5;241m=\u001b[39m Company\u001b[38;5;241m.\u001b[39mobjects\u001b[38;5;241m.\u001b[39mfilter(active\u001b[38;5;241m=\u001b[39m\u001b[38;5;28;01mTrue\u001b[39;00m)\u001b[38;5;241m.\u001b[39mvalues_list(\u001b[38;5;124m'\u001b[39m\u001b[38;5;124mid\u001b[39m\u001b[38;5;124m'\u001b[39m, flat\u001b[38;5;241m=\u001b[39m\u001b[38;5;28;01mTrue\u001b[39;00m)\n\u001b[1;32m     38\u001b[0m \u001b[38;5;28;01mfor\u001b[39;00m company_id \u001b[38;5;129;01min\u001b[39;00m companies:\n\u001b[0;32m---> 39\u001b[0m     \u001b[43msync_company_stock_quotes\u001b[49m\u001b[43m(\u001b[49m\u001b[43mcompany_id\u001b[49m\u001b[43m)\u001b[49m\n",
      "File \u001b[0;32m~/Desktop/StockTradingBot-1/src/market/tasks.py:30\u001b[0m, in \u001b[0;36msync_company_stock_quotes\u001b[0;34m(company_id, days_ago, date_format, verbose)\u001b[0m\n\u001b[1;32m     24\u001b[0m from_date \u001b[38;5;241m=\u001b[39m start_date\u001b[38;5;241m.\u001b[39mstrftime(date_format)\n\u001b[1;32m     25\u001b[0m client \u001b[38;5;241m=\u001b[39m helper_clients\u001b[38;5;241m.\u001b[39mPolygonAPIClient(\n\u001b[1;32m     26\u001b[0m     ticker\u001b[38;5;241m=\u001b[39mcompany_ticker,\n\u001b[1;32m     27\u001b[0m     from_date\u001b[38;5;241m=\u001b[39mfrom_date,\n\u001b[1;32m     28\u001b[0m     to_date\u001b[38;5;241m=\u001b[39mto_date\n\u001b[1;32m     29\u001b[0m )\n\u001b[0;32m---> 30\u001b[0m dataset \u001b[38;5;241m=\u001b[39m \u001b[43mclient\u001b[49m\u001b[38;5;241;43m.\u001b[39;49m\u001b[43mget_stock_data\u001b[49m\u001b[43m(\u001b[49m\u001b[43m)\u001b[49m\n\u001b[1;32m     31\u001b[0m \u001b[38;5;28;01mif\u001b[39;00m verbose:\n\u001b[1;32m     32\u001b[0m     \u001b[38;5;28mprint\u001b[39m(\u001b[38;5;124m'\u001b[39m\u001b[38;5;124mdataset length\u001b[39m\u001b[38;5;124m'\u001b[39m, \u001b[38;5;28mlen\u001b[39m(dataset))\n",
      "File \u001b[0;32m~/Desktop/StockTradingBot-1/src/helpers/clients/_polygon.py:75\u001b[0m, in \u001b[0;36mPolygonAPIClient.get_stock_data\u001b[0;34m(self)\u001b[0m\n\u001b[1;32m     73\u001b[0m \u001b[38;5;28;01mdef\u001b[39;00m \u001b[38;5;21mget_stock_data\u001b[39m(\u001b[38;5;28mself\u001b[39m):\n\u001b[1;32m     74\u001b[0m     data \u001b[38;5;241m=\u001b[39m \u001b[38;5;28mself\u001b[39m\u001b[38;5;241m.\u001b[39mperform_request() \u001b[38;5;66;03m# making GET request to Polygon API\u001b[39;00m\n\u001b[0;32m---> 75\u001b[0m     results \u001b[38;5;241m=\u001b[39m \u001b[43mdata\u001b[49m\u001b[43m[\u001b[49m\u001b[38;5;124;43m'\u001b[39;49m\u001b[38;5;124;43mresults\u001b[39;49m\u001b[38;5;124;43m'\u001b[39;49m\u001b[43m]\u001b[49m \u001b[38;5;66;03m# accesses results key in data dictionary \u001b[39;00m\n\u001b[1;32m     76\u001b[0m     dataset \u001b[38;5;241m=\u001b[39m []\n\u001b[1;32m     77\u001b[0m     \u001b[38;5;28;01mfor\u001b[39;00m result \u001b[38;5;129;01min\u001b[39;00m results: \u001b[38;5;66;03m# calls function on each results and stores in dataset\u001b[39;00m\n",
      "\u001b[0;31mKeyError\u001b[0m: 'results'"
     ]
    }
   ],
   "source": [
    "market_tasks.sync_stock_data()"
   ]
  },
  {
   "cell_type": "code",
   "execution_count": null,
   "id": "f2fba14c-77a4-4617-8632-65f4055ed7b5",
   "metadata": {},
   "outputs": [],
   "source": [
    "StockQuote.objects.all().count()"
   ]
  },
  {
   "cell_type": "code",
   "execution_count": null,
   "id": "6262414f-14cc-4e01-9f0a-8a662b05499f",
   "metadata": {},
   "outputs": [],
   "source": []
  }
 ],
 "metadata": {
  "kernelspec": {
   "display_name": "Python 3 (ipykernel)",
   "language": "python",
   "name": "python3"
  },
  "language_info": {
   "codemirror_mode": {
    "name": "ipython",
    "version": 3
   },
   "file_extension": ".py",
   "mimetype": "text/x-python",
   "name": "python",
   "nbconvert_exporter": "python",
   "pygments_lexer": "ipython3",
   "version": "3.12.1"
  }
 },
 "nbformat": 4,
 "nbformat_minor": 5
}
