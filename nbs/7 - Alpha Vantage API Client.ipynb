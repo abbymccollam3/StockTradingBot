{
 "cells": [
  {
   "cell_type": "code",
   "execution_count": 8,
   "id": "9f344814-a108-420b-996f-5120414b7070",
   "metadata": {},
   "outputs": [],
   "source": [
    "from decouple import config"
   ]
  },
  {
   "cell_type": "code",
   "execution_count": 9,
   "id": "74e4a6c7-cee2-462e-8239-429fc05483ba",
   "metadata": {},
   "outputs": [],
   "source": [
    "assert config(\"ALPHA_VANTAGE_API_KEY\", default=None, cast=str) is not None"
   ]
  },
  {
   "cell_type": "code",
   "execution_count": 16,
   "id": "4f107c3b-6a72-41b0-99be-4d52f96c71e9",
   "metadata": {},
   "outputs": [],
   "source": [
    "import pytz\n",
    "import requests\n",
    "from dataclasses import dataclass\n",
    "from datetime import datetime\n",
    "from typing import Literal\n",
    "from urllib.parse import urlencode\n",
    "from decimal import Decimal\n",
    "\n",
    "def transform_alpha_vantage_result(timestamp_str, result_val):\n",
    "    # unix_timestamp = result.get('t') / 1000\n",
    "    # utc_timestamp = datetime.fromtimestamp(unix_timestamp, tz=pytz.timezone('UTC'))\n",
    "    timestamp_format = '%Y-%m-%d %H:%M:%S'\n",
    "    eastern = pytz.timezone(\"US/Eastern\")\n",
    "    utc = pytz.utc\n",
    "    timestamp = eastern.localize(datetime.strptime(timestamp_str, timestamp_format)).astimezone(utc)\n",
    "    return {\n",
    "     'open_price': Decimal(result_val['1. open']),\n",
    "     'close_price': Decimal(result_val['4. close']),\n",
    "     'high_price': Decimal(result_val['2. high']),\n",
    "     'low_price': Decimal(result_val['3. low']),\n",
    "     'volume': int(result_val['5. volume']),\n",
    "     'time': timestamp,\n",
    "    }\n",
    "\n",
    "ALPHA_VANTAGE_API_KEY = config(\"ALPHA_VANTAGE_API_KEY\", default=None, cast=str) \n",
    "\n",
    "@dataclass\n",
    "class AlphaVantageAPIClient: #API parameters\n",
    "    ticker: str = \"AAPL\"\n",
    "    function: Literal[\"TIME_SERIES_INTRADAY\"] = \"TIME_SERIES_INTRADAY\"\n",
    "    interval: Literal[\"1min\", \"5min\", \"15min\", \"30min\", \"60min\"] = \"1min\"\n",
    "    api_key: str = \"\"\n",
    "    \n",
    "    def get_api_key(self):\n",
    "        return self.api_key or ALPHA_VANTAGE_API_KEY\n",
    "\n",
    "    # don't want to expose API key, so pass in headers instead\n",
    "    def get_headers(self):\n",
    "        api_key = self.get_api_key()\n",
    "        return {\n",
    "            \"Authorization\": f\"Bearer {api_key}\"\n",
    "        }\n",
    "\n",
    "    def get_params(self):\n",
    "        return {\n",
    "            \"apikey\" : self.get_api_key,\n",
    "            \"symbol\" : self.ticker,\n",
    "            \"interval\" : self.interval,\n",
    "            \"function\" : self.function,\n",
    "        }\n",
    "\n",
    "    def generate_url(self, pass_auth=False):\n",
    "        path = \"/query\"\n",
    "        url = f\"https://www.alphavantage.co{path}\"\n",
    "        params = self.get_params()\n",
    "        encoded_params = urlencode(params)\n",
    "        url = f\"{url}?{encoded_params}\" # appends base url with encoded params\n",
    "        if pass_auth:\n",
    "            api_key = self.get_api_key()\n",
    "            url += \"&api_key={api_key}\"\n",
    "        return url\n",
    "\n",
    "    # fetching the raw data\n",
    "    def perform_request(self):\n",
    "        headers = self.get_headers()\n",
    "        url = self.generate_url()\n",
    "        response = requests.get(url, headers=headers)\n",
    "        response.raise_for_status() # not successful -> raises errors\n",
    "        return response.json()\n",
    "\n",
    "    \n",
    "    def get_stock_data(self):\n",
    "        data = self.perform_request() # making GET request to Polygon API\n",
    "        dataset_key = [x for x in list(data.keys()) if not x.lower() == \"meta data\"][0]\n",
    "        results = data[dataset_key]\n",
    "        dataset = []\n",
    "        for timestamp_str in results.keys():\n",
    "            dataset.append(\n",
    "                transform_alpha_vantage_result(timestamp_str, results.get(timestamp_str))\n",
    "            )\n",
    "        return dataset\n",
    "        "
   ]
  },
  {
   "cell_type": "code",
   "execution_count": 17,
   "id": "adcb3c11-db41-4b7a-ac98-1df1bbbb3222",
   "metadata": {},
   "outputs": [
    {
     "ename": "AttributeError",
     "evalue": "'str' object has no attribute 'keys'",
     "output_type": "error",
     "traceback": [
      "\u001b[0;31m---------------------------------------------------------------------------\u001b[0m",
      "\u001b[0;31mAttributeError\u001b[0m                            Traceback (most recent call last)",
      "Cell \u001b[0;32mIn[17], line 1\u001b[0m\n\u001b[0;32m----> 1\u001b[0m \u001b[43mAlphaVantageAPIClient\u001b[49m\u001b[43m(\u001b[49m\u001b[43m)\u001b[49m\u001b[38;5;241;43m.\u001b[39;49m\u001b[43mget_stock_data\u001b[49m\u001b[43m(\u001b[49m\u001b[43m)\u001b[49m\n",
      "Cell \u001b[0;32mIn[16], line 77\u001b[0m, in \u001b[0;36mAlphaVantageAPIClient.get_stock_data\u001b[0;34m(self)\u001b[0m\n\u001b[1;32m     75\u001b[0m results \u001b[38;5;241m=\u001b[39m data[dataset_key]\n\u001b[1;32m     76\u001b[0m dataset \u001b[38;5;241m=\u001b[39m []\n\u001b[0;32m---> 77\u001b[0m \u001b[38;5;28;01mfor\u001b[39;00m timestamp_str \u001b[38;5;129;01min\u001b[39;00m \u001b[43mresults\u001b[49m\u001b[38;5;241;43m.\u001b[39;49m\u001b[43mkeys\u001b[49m():\n\u001b[1;32m     78\u001b[0m     dataset\u001b[38;5;241m.\u001b[39mappend(\n\u001b[1;32m     79\u001b[0m         transform_alpha_vantage_result(timestamp_str, results\u001b[38;5;241m.\u001b[39mget(timestamp_str))\n\u001b[1;32m     80\u001b[0m     )\n\u001b[1;32m     81\u001b[0m \u001b[38;5;28;01mreturn\u001b[39;00m dataset\n",
      "\u001b[0;31mAttributeError\u001b[0m: 'str' object has no attribute 'keys'"
     ]
    }
   ],
   "source": [
    "AlphaVantageAPIClient().get_stock_data()"
   ]
  },
  {
   "cell_type": "code",
   "execution_count": null,
   "id": "f26b066c-d774-4d11-87bc-de18636a755b",
   "metadata": {},
   "outputs": [],
   "source": []
  }
 ],
 "metadata": {
  "kernelspec": {
   "display_name": "Python 3 (ipykernel)",
   "language": "python",
   "name": "python3"
  },
  "language_info": {
   "codemirror_mode": {
    "name": "ipython",
    "version": 3
   },
   "file_extension": ".py",
   "mimetype": "text/x-python",
   "name": "python",
   "nbconvert_exporter": "python",
   "pygments_lexer": "ipython3",
   "version": "3.12.1"
  }
 },
 "nbformat": 4,
 "nbformat_minor": 5
}
