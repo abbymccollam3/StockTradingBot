{
 "cells": [
  {
   "cell_type": "code",
   "execution_count": 28,
   "id": "db883e48-3469-4ab2-98d8-cce71d236cc8",
   "metadata": {},
   "outputs": [],
   "source": [
    "import setup\n",
    "setup.init_django()"
   ]
  },
  {
   "cell_type": "code",
   "execution_count": 29,
   "id": "7b3e1b19-ee8c-474c-a2ea-7ab22c02df77",
   "metadata": {},
   "outputs": [],
   "source": [
    "from market.models import StockQuote"
   ]
  },
  {
   "cell_type": "code",
   "execution_count": 30,
   "id": "3df9674d-ecee-40fd-afc9-f21e80101b56",
   "metadata": {},
   "outputs": [],
   "source": [
    "from django.db.models import Avg, F, RowRange, Window, Max\n",
    "from django.db.models.functions import TruncDate\n",
    "from django.utils import timezone\n",
    "from datetime import timedelta\n",
    "from decimal import Decimal"
   ]
  },
  {
   "cell_type": "code",
   "execution_count": 31,
   "id": "d0962a99-16be-4f15-b24a-201bf71e4b25",
   "metadata": {},
   "outputs": [
    {
     "data": {
      "text/plain": [
       "4334"
      ]
     },
     "execution_count": 31,
     "metadata": {},
     "output_type": "execute_result"
    }
   ],
   "source": [
    "days_ago = 30\n",
    "now = timezone.now()\n",
    "start_date = now - timedelta(days=30)\n",
    "end_date = now\n",
    "\n",
    "# filtering data\n",
    "qs = StockQuote.objects.filter(time__range=(start_date, end_date))\n",
    "qs.count()"
   ]
  },
  {
   "cell_type": "code",
   "execution_count": 32,
   "id": "2b3475e9-9f24-48c4-b243-8e2d1070f6fd",
   "metadata": {},
   "outputs": [],
   "source": [
    "total = 0\n",
    "for obj in qs:\n",
    "    total += obj.close_price"
   ]
  },
  {
   "cell_type": "code",
   "execution_count": 33,
   "id": "a9d72fb8-e7b6-4a25-8801-aaffcd795eaf",
   "metadata": {},
   "outputs": [
    {
     "data": {
      "text/plain": [
       "Decimal('219.3161923396400553760959852')"
      ]
     },
     "execution_count": 33,
     "metadata": {},
     "output_type": "execute_result"
    }
   ],
   "source": [
    "total /qs.count()"
   ]
  },
  {
   "cell_type": "code",
   "execution_count": 34,
   "id": "bd75bc80-9944-4040-bd87-06406e406f34",
   "metadata": {},
   "outputs": [
    {
     "data": {
      "text/plain": [
       "<QuerySet [{'company': 2, 'avg_price': Decimal('170.1696036020583190')}, {'company': 1, 'avg_price': Decimal('226.9548117035457211')}]>"
      ]
     },
     "execution_count": 34,
     "metadata": {},
     "output_type": "execute_result"
    }
   ],
   "source": [
    "# average prices for entire month\n",
    "qs.values('company').annotate(avg_price=Avg('close_price'))"
   ]
  },
  {
   "cell_type": "code",
   "execution_count": 35,
   "id": "a58d27f6-db14-4f66-8a93-55ccb2f2ddbb",
   "metadata": {},
   "outputs": [],
   "source": [
    "count = 5\n",
    "ticker = \"AAPL\"\n",
    "rolling_qs = list(qs.filter(company__ticker = ticker).order_by('time')[:count]) # grabbing orginal window\n",
    "rolling_qs.reverse() # orginal time order"
   ]
  },
  {
   "cell_type": "code",
   "execution_count": 36,
   "id": "f0cad8f3-7fa2-4fb1-b28e-130cba25f67e",
   "metadata": {},
   "outputs": [
    {
     "data": {
      "text/plain": [
       "[<StockQuote: StockQuote object (313492)>,\n",
       " <StockQuote: StockQuote object (313491)>,\n",
       " <StockQuote: StockQuote object (313490)>,\n",
       " <StockQuote: StockQuote object (313489)>,\n",
       " <StockQuote: StockQuote object (313488)>]"
      ]
     },
     "execution_count": 36,
     "metadata": {},
     "output_type": "execute_result"
    }
   ],
   "source": [
    "rolling_qs"
   ]
  },
  {
   "cell_type": "code",
   "execution_count": 37,
   "id": "0225ee91-07bc-4dc1-b5a5-efe4f0e8cdcd",
   "metadata": {},
   "outputs": [
    {
     "name": "stdout",
     "output_type": "stream",
     "text": [
      "1 313492 234.1600 234.1600\n",
      "2 313491 234.3650 234.2625\n",
      "3 313490 234.2950 234.2733333333333333333333333\n",
      "4 313489 234.3950 234.30375\n",
      "5 313488 234.4400 234.3310\n"
     ]
    }
   ],
   "source": [
    "total = 0\n",
    "for i, obj in enumerate(rolling_qs):\n",
    "    total += obj.close_price\n",
    "    avg = total / (i + 1)\n",
    "    print(i + 1, obj.id, obj.close_price, avg)"
   ]
  },
  {
   "cell_type": "code",
   "execution_count": 38,
   "id": "7df32539-ec91-46f6-b947-5074e2f03f50",
   "metadata": {},
   "outputs": [],
   "source": [
    "latest_daily_timestamps = (\n",
    "    StockQuote.objects.filter(company__ticker = ticker, time__range=(start_date - timedelta(days=40), end_date))\n",
    "    .annotate(date=TruncDate('time'))\n",
    "    .values('company', 'date')\n",
    "    .annotate(latest_time=Max('time'))\n",
    "    .values('company', 'date', 'latest_time')\n",
    "    .order_by('date') # skipping over dates not in database\n",
    ")\n",
    "\n",
    "# timestamps for final of the day\n",
    "actual_timestamps = [x['latest_time'] for x in latest_daily_timestamps]"
   ]
  },
  {
   "cell_type": "code",
   "execution_count": 39,
   "id": "b53aff48-730f-401c-9ee6-d6d91c2c47d0",
   "metadata": {},
   "outputs": [],
   "source": [
    "qs = StockQuote.objects.filter(\n",
    "    company__ticker = ticker, \n",
    "    time__range=(start_date, end_date),\n",
    "    time__in=actual_timestamps\n",
    ")"
   ]
  },
  {
   "cell_type": "code",
   "execution_count": 40,
   "id": "c8e956d3-dc80-4cfc-8771-f74360080456",
   "metadata": {},
   "outputs": [],
   "source": [
    "frame_start = -(count - 1)\n",
    "ma_val = qs.annotate(\n",
    "        ma = Window(\n",
    "            expression=Avg('close_price'),\n",
    "            order_by=F('time').asc(),\n",
    "            partition_by=[],\n",
    "            frame = RowRange(start=frame_start, end=0), # based on amount we want to get\n",
    "        )\n",
    ").order_by('-time')"
   ]
  },
  {
   "cell_type": "code",
   "execution_count": 41,
   "id": "2350c58a-8659-4a14-8042-afbc270b0f15",
   "metadata": {},
   "outputs": [
    {
     "name": "stdout",
     "output_type": "stream",
     "text": [
      "330238 235.5300 231.8323400000000000 2024-11-27 00:55:00+00:00\n",
      "330226 235.4617 230.4683400000000000 2024-11-26 23:55:00+00:00\n",
      "330053 229.9500 228.9760000000000000 2024-11-23 00:55:00+00:00\n",
      "330046 229.9899 228.5560000000000000 2024-11-22 23:55:00+00:00\n",
      "329863 228.2301 227.6100200000000000 2024-11-21 23:55:00+00:00\n"
     ]
    }
   ],
   "source": [
    "for obj in ma_val[:5]:\n",
    "    print(obj.id, obj.close_price, obj.ma, obj.time)"
   ]
  },
  {
   "cell_type": "code",
   "execution_count": 42,
   "id": "c07946fa-7e5e-4d8b-a33e-dd93ca242043",
   "metadata": {},
   "outputs": [
    {
     "data": {
      "text/plain": [
       "(330238,\n",
       " Decimal('235.5300'),\n",
       " Decimal('231.8323400000000000'),\n",
       " Decimal('227.1750850000000000'))"
      ]
     },
     "execution_count": 42,
     "metadata": {},
     "output_type": "execute_result"
    }
   ],
   "source": [
    "frame_start = -(count - 1)\n",
    "ma_vals = qs.annotate(\n",
    "        ma_5 = Window( # 5 minute intervals of 5\n",
    "            expression=Avg('close_price'),\n",
    "            order_by=F('time').asc(),\n",
    "            partition_by=[],\n",
    "            frame = RowRange(start=-4, end=0), # based on amount we want to get\n",
    "        ),\n",
    "        ma_20 = Window( # 20 minute intervals of 5\n",
    "            expression=Avg('close_price'),\n",
    "            order_by=F('time').asc(),\n",
    "            partition_by=[],\n",
    "            frame = RowRange(start=-19, end=0), # based on amount we want to get\n",
    "        )\n",
    ").order_by('-time').first()\n",
    "\n",
    "ma_vals.id, ma_vals.close_price, ma_vals.ma_5, ma_vals.ma_20"
   ]
  },
  {
   "cell_type": "code",
   "execution_count": null,
   "id": "ad8e16d4-9758-4a14-a7c9-cbf4143711b5",
   "metadata": {},
   "outputs": [],
   "source": []
  }
 ],
 "metadata": {
  "kernelspec": {
   "display_name": "Python 3 (ipykernel)",
   "language": "python",
   "name": "python3"
  },
  "language_info": {
   "codemirror_mode": {
    "name": "ipython",
    "version": 3
   },
   "file_extension": ".py",
   "mimetype": "text/x-python",
   "name": "python",
   "nbconvert_exporter": "python",
   "pygments_lexer": "ipython3",
   "version": "3.12.1"
  }
 },
 "nbformat": 4,
 "nbformat_minor": 5
}
