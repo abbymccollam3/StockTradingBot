{
 "cells": [
  {
   "cell_type": "code",
   "execution_count": 16,
   "id": "9f344814-a108-420b-996f-5120414b7070",
   "metadata": {},
   "outputs": [],
   "source": [
    "from decouple import config"
   ]
  },
  {
   "cell_type": "code",
   "execution_count": 17,
   "id": "d7dcf4f7-c768-409f-943a-54f0555f7832",
   "metadata": {},
   "outputs": [],
   "source": [
    "assert config(\"POLYGON_API_KEY\", default=None, cast=str) is not None"
   ]
  },
  {
   "cell_type": "code",
   "execution_count": 18,
   "id": "8430442e-25ca-450e-9135-db1842f2dda5",
   "metadata": {},
   "outputs": [],
   "source": [
    "POLYGON_API_KEY = config(\"POLYGON_API_KEY\", default=None, cast=str)"
   ]
  },
  {
   "cell_type": "code",
   "execution_count": 19,
   "id": "7c37a746-a857-4da0-a1e0-2ae5cb28dee6",
   "metadata": {},
   "outputs": [],
   "source": [
    "import requests"
   ]
  },
  {
   "cell_type": "code",
   "execution_count": 20,
   "id": "dd85f11c-0118-4187-b886-b23923a83968",
   "metadata": {},
   "outputs": [],
   "source": [
    "url = f\"https://api.polygon.io/v2/aggs/ticker/AAPL/range/1/day/2023-01-09/2023-01-09?apiKey{POLYGON_API_KEY}\""
   ]
  },
  {
   "cell_type": "code",
   "execution_count": 21,
   "id": "5c110d3f-42f1-411b-bbc0-1bd681619a74",
   "metadata": {},
   "outputs": [],
   "source": [
    "response = requests.get(url)"
   ]
  },
  {
   "cell_type": "code",
   "execution_count": 22,
   "id": "e3185f27-6cb2-4f10-97af-65b21cdb6c45",
   "metadata": {},
   "outputs": [
    {
     "data": {
      "text/plain": [
       "{'status': 'ERROR',\n",
       " 'request_id': 'd4e4f12b91ba9abd1e0c8bfeafbee525',\n",
       " 'error': 'Unknown API Key'}"
      ]
     },
     "execution_count": 22,
     "metadata": {},
     "output_type": "execute_result"
    }
   ],
   "source": [
    "response.json()"
   ]
  },
  {
   "cell_type": "code",
   "execution_count": null,
   "id": "2ea0eb42-2eb8-40e2-9d8c-5cd9008ac6a9",
   "metadata": {},
   "outputs": [],
   "source": []
  }
 ],
 "metadata": {
  "kernelspec": {
   "display_name": "Python 3 (ipykernel)",
   "language": "python",
   "name": "python3"
  },
  "language_info": {
   "codemirror_mode": {
    "name": "ipython",
    "version": 3
   },
   "file_extension": ".py",
   "mimetype": "text/x-python",
   "name": "python",
   "nbconvert_exporter": "python",
   "pygments_lexer": "ipython3",
   "version": "3.12.1"
  }
 },
 "nbformat": 4,
 "nbformat_minor": 5
}
