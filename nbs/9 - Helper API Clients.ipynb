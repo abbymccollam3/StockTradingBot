{
 "cells": [
  {
   "cell_type": "code",
   "execution_count": 8,
   "id": "d0eaef58-6b5a-46b1-be1d-120ccc28fc47",
   "metadata": {},
   "outputs": [],
   "source": [
    "# need to run these every time\n",
    "import setup\n",
    "setup.init_django()"
   ]
  },
  {
   "cell_type": "code",
   "execution_count": 9,
   "id": "b6118d69-36d0-456d-b0c5-7bfd45140e28",
   "metadata": {},
   "outputs": [],
   "source": [
    "import helpers.clients as helper_clients"
   ]
  },
  {
   "cell_type": "code",
   "execution_count": 10,
   "id": "62b0052f-165e-4927-8bbd-f3567302f105",
   "metadata": {},
   "outputs": [
    {
     "data": {
      "text/plain": [
       "AlphaVantageAPIClient(ticker='AAPL', function='TIME_SERIES_INTRADAY', interval='1min', api_key='')"
      ]
     },
     "execution_count": 10,
     "metadata": {},
     "output_type": "execute_result"
    }
   ],
   "source": [
    "helper_clients.AlphaVantageAPIClient()"
   ]
  },
  {
   "cell_type": "code",
   "execution_count": 11,
   "id": "4a60b606-1fc0-4f2c-9497-95446477fe7f",
   "metadata": {},
   "outputs": [
    {
     "ename": "AttributeError",
     "evalue": "module 'helpers.clients' has no attribute 'PolygonAPIClient'",
     "output_type": "error",
     "traceback": [
      "\u001b[0;31m---------------------------------------------------------------------------\u001b[0m",
      "\u001b[0;31mAttributeError\u001b[0m                            Traceback (most recent call last)",
      "Cell \u001b[0;32mIn[11], line 1\u001b[0m\n\u001b[0;32m----> 1\u001b[0m \u001b[43mhelper_clients\u001b[49m\u001b[38;5;241;43m.\u001b[39;49m\u001b[43mPolygonAPIClient\u001b[49m()\n",
      "\u001b[0;31mAttributeError\u001b[0m: module 'helpers.clients' has no attribute 'PolygonAPIClient'"
     ]
    }
   ],
   "source": [
    "helper_clients.PolygonAPIClient()"
   ]
  },
  {
   "cell_type": "code",
   "execution_count": null,
   "id": "8745057d-210c-482e-9ee2-94459aabab41",
   "metadata": {},
   "outputs": [],
   "source": []
  }
 ],
 "metadata": {
  "kernelspec": {
   "display_name": "Python 3 (ipykernel)",
   "language": "python",
   "name": "python3"
  },
  "language_info": {
   "codemirror_mode": {
    "name": "ipython",
    "version": 3
   },
   "file_extension": ".py",
   "mimetype": "text/x-python",
   "name": "python",
   "nbconvert_exporter": "python",
   "pygments_lexer": "ipython3",
   "version": "3.12.1"
  }
 },
 "nbformat": 4,
 "nbformat_minor": 5
}
