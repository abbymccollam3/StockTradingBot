{
 "cells": [
  {
   "cell_type": "code",
   "execution_count": 36,
   "id": "d0eaef58-6b5a-46b1-be1d-120ccc28fc47",
   "metadata": {},
   "outputs": [],
   "source": [
    "# need to run these every time\n",
    "import setup\n",
    "setup.init_django()"
   ]
  },
  {
   "cell_type": "code",
   "execution_count": 37,
   "id": "b6118d69-36d0-456d-b0c5-7bfd45140e28",
   "metadata": {},
   "outputs": [],
   "source": [
    "import helpers.clients as helper_clients"
   ]
  },
  {
   "cell_type": "code",
   "execution_count": 38,
   "id": "863654aa-463f-466b-a581-4d821f768e78",
   "metadata": {},
   "outputs": [],
   "source": [
    "dataset_a = helper_clients.AlphaVantageAPIClient().get_stock_data()"
   ]
  },
  {
   "cell_type": "code",
   "execution_count": 39,
   "id": "62b0052f-165e-4927-8bbd-f3567302f105",
   "metadata": {},
   "outputs": [
    {
     "ename": "AttributeError",
     "evalue": "module 'helpers.clients' has no attribute 'PolygonAPIClient'",
     "output_type": "error",
     "traceback": [
      "\u001b[0;31m---------------------------------------------------------------------------\u001b[0m",
      "\u001b[0;31mAttributeError\u001b[0m                            Traceback (most recent call last)",
      "Cell \u001b[0;32mIn[39], line 1\u001b[0m\n\u001b[0;32m----> 1\u001b[0m dataset_b \u001b[38;5;241m=\u001b[39m \u001b[43mhelper_clients\u001b[49m\u001b[38;5;241;43m.\u001b[39;49m\u001b[43mPolygonAPIClient\u001b[49m()\u001b[38;5;241m.\u001b[39mget_stock_data()\n",
      "\u001b[0;31mAttributeError\u001b[0m: module 'helpers.clients' has no attribute 'PolygonAPIClient'"
     ]
    }
   ],
   "source": [
    "dataset_b = helper_clients.PolygonAPIClient().get_stock_data()"
   ]
  },
  {
   "cell_type": "code",
   "execution_count": null,
   "id": "8745057d-210c-482e-9ee2-94459aabab41",
   "metadata": {},
   "outputs": [],
   "source": [
    "dataset_a"
   ]
  },
  {
   "cell_type": "code",
   "execution_count": 40,
   "id": "feef5c63-e8ba-4d96-b51f-859fc6f6af7d",
   "metadata": {},
   "outputs": [
    {
     "ename": "NameError",
     "evalue": "name 'dataset_b' is not defined",
     "output_type": "error",
     "traceback": [
      "\u001b[0;31m---------------------------------------------------------------------------\u001b[0m",
      "\u001b[0;31mNameError\u001b[0m                                 Traceback (most recent call last)",
      "Cell \u001b[0;32mIn[40], line 1\u001b[0m\n\u001b[0;32m----> 1\u001b[0m \u001b[43mdataset_b\u001b[49m\n",
      "\u001b[0;31mNameError\u001b[0m: name 'dataset_b' is not defined"
     ]
    }
   ],
   "source": [
    "dataset_b"
   ]
  },
  {
   "cell_type": "code",
   "execution_count": null,
   "id": "4ab363c9-9a78-4734-8154-027270f71ac3",
   "metadata": {},
   "outputs": [],
   "source": []
  }
 ],
 "metadata": {
  "kernelspec": {
   "display_name": "Python 3 (ipykernel)",
   "language": "python",
   "name": "python3"
  },
  "language_info": {
   "codemirror_mode": {
    "name": "ipython",
    "version": 3
   },
   "file_extension": ".py",
   "mimetype": "text/x-python",
   "name": "python",
   "nbconvert_exporter": "python",
   "pygments_lexer": "ipython3",
   "version": "3.12.1"
  }
 },
 "nbformat": 4,
 "nbformat_minor": 5
}
