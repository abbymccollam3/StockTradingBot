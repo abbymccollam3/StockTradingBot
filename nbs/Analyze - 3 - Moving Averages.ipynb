{
 "cells": [
  {
   "cell_type": "code",
   "execution_count": 27,
   "id": "db883e48-3469-4ab2-98d8-cce71d236cc8",
   "metadata": {},
   "outputs": [],
   "source": [
    "import setup\n",
    "setup.init_django()"
   ]
  },
  {
   "cell_type": "code",
   "execution_count": 28,
   "id": "7b3e1b19-ee8c-474c-a2ea-7ab22c02df77",
   "metadata": {},
   "outputs": [],
   "source": [
    "from market.models import StockQuote"
   ]
  },
  {
   "cell_type": "code",
   "execution_count": 29,
   "id": "3df9674d-ecee-40fd-afc9-f21e80101b56",
   "metadata": {},
   "outputs": [],
   "source": [
    "from django.db.models import Avg, F, RowRange, Window, Max, Min\n",
    "from django.db.models.functions import TruncDate, FirstValue\n",
    "from django.utils import timezone\n",
    "from datetime import timedelta\n",
    "from decimal import Decimal"
   ]
  },
  {
   "cell_type": "code",
   "execution_count": 30,
   "id": "d0962a99-16be-4f15-b24a-201bf71e4b25",
   "metadata": {},
   "outputs": [],
   "source": [
    "days_ago = 30\n",
    "now = timezone.now()\n",
    "start_date = now - timedelta(days=30)\n",
    "end_date = now\n",
    "ticker = \"AAPL\""
   ]
  },
  {
   "cell_type": "code",
   "execution_count": 31,
   "id": "7df32539-ec91-46f6-b947-5074e2f03f50",
   "metadata": {},
   "outputs": [
    {
     "data": {
      "text/plain": [
       "53"
      ]
     },
     "execution_count": 31,
     "metadata": {},
     "output_type": "execute_result"
    }
   ],
   "source": [
    "latest_daily_timestamps = (\n",
    "    StockQuote.timescale.filter(company__ticker = ticker, time__range=(start_date - timedelta(days=40), end_date))\n",
    "    .time_bucket('time', '1 day')\n",
    "    .annotate(date=TruncDate('time'))\n",
    "    .values('company', 'date')\n",
    "    .annotate(latest_time=Max('time'))\n",
    "    .values('company', 'date', 'latest_time')\n",
    "    .order_by('date') # skipping over dates not in database\n",
    ")\n",
    "\n",
    "# timestamps for final of the day\n",
    "actual_timestamps = list(set([x['latest_time'] for x in latest_daily_timestamps]))\n",
    "len(actual_timestamps)"
   ]
  },
  {
   "cell_type": "code",
   "execution_count": 32,
   "id": "b53aff48-730f-401c-9ee6-d6d91c2c47d0",
   "metadata": {},
   "outputs": [],
   "source": [
    "qs = StockQuote.objects.filter(\n",
    "    company__ticker = ticker, \n",
    "    time__range=(start_date, end_date),\n",
    "    time__in=actual_timestamps\n",
    ")"
   ]
  },
  {
   "cell_type": "code",
   "execution_count": 33,
   "id": "7e43d9f8-b109-40d5-ae90-af37e9487c26",
   "metadata": {},
   "outputs": [],
   "source": [
    "def get_volume_trend(queryset, days=5):\n",
    "    # Analyze recent volume trends\n",
    "    start = -(days-1)\n",
    "    data = queryset.annotate(\n",
    "        avg_volume=Window(\n",
    "            expression = Avg('volume'), # getting average trading volume\n",
    "            order_by=F('time').asc(), # orders by time\n",
    "            partition_by=[],\n",
    "            frame = RowRange(start=start, end=0) \n",
    "        )\n",
    "    ).order_by('-time').first() # first is to grab most recent data\n",
    "\n",
    "    if not data:\n",
    "        return None\n",
    "\n",
    "    volume_change = ((data.volume - data.avg_volume) /\n",
    "                    data.avg_volume) * 100\n",
    "\n",
    "    return {\n",
    "        'avg_volume': float(data.avg_volume), # avg volume over last 30 days for APPL\n",
    "        'latest_volume': int(data.volume),\n",
    "        'volume_change_percent': float(volume_change)\n",
    "    }"
   ]
  },
  {
   "cell_type": "code",
   "execution_count": 34,
   "id": "c8e956d3-dc80-4cfc-8771-f74360080456",
   "metadata": {},
   "outputs": [
    {
     "data": {
      "text/plain": [
       "{'avg_volume': 1386.6,\n",
       " 'latest_volume': 1874,\n",
       " 'volume_change_percent': 35.15072840040388}"
      ]
     },
     "execution_count": 34,
     "metadata": {},
     "output_type": "execute_result"
    }
   ],
   "source": [
    "get_volume_trend(qs)"
   ]
  },
  {
   "cell_type": "code",
   "execution_count": 35,
   "id": "196687d1-796d-40ec-a6b3-9b070a753558",
   "metadata": {},
   "outputs": [],
   "source": [
    "# Calculates a simplified price target based on past stock prices over a specified number of days or timestamps\n",
    "\n",
    "def get_simple_target(ticker, timestamps=[], days=180):\n",
    "    \"\"\"\n",
    "    Simplified price target calculation\n",
    "    \"\"\"\n",
    "    end_date = timezone.now()\n",
    "    start_date = end_date - timedelta(days=days)\n",
    "    lookups = {\n",
    "        \"company__ticker\": ticker,\n",
    "        \"time__range\": (start_date, end_date)\n",
    "    }\n",
    "    if len(timestamps) > 0:\n",
    "        lookups['time__in'] = timestamps\n",
    "    daily_data = (\n",
    "        StockQuote.timescale\n",
    "        .filter(**lookups)\n",
    "        .time_bucket('time', '1 day')\n",
    "        .annotate(\n",
    "            latest_price=Window(\n",
    "                expression=FirstValue('close_price'),\n",
    "                partition_by=[],\n",
    "                order_by=F('time').desc()\n",
    "            )\n",
    "        )\n",
    "        .aggregate(\n",
    "            current_price=Max('latest_price'),\n",
    "            avg_price=Avg('close_price'),\n",
    "            highest=Max('high_price'),\n",
    "            lowest=Min('low_price')\n",
    "        )\n",
    "    )\n",
    "    \n",
    "    if not daily_data:\n",
    "        return None\n",
    "        \n",
    "    current_price = float(daily_data['current_price'])\n",
    "    avg_price = float(daily_data['avg_price'])\n",
    "    price_range = float(daily_data['highest']) - float(daily_data['lowest'])\n",
    "    \n",
    "    # Simple target based on average price and recent range\n",
    "    conservative_target = current_price + (price_range * 0.382)  # 38.2% Fibonacci\n",
    "    aggressive_target = current_price + (price_range * 0.618)   # 61.8% Fibonacci\n",
    "    \n",
    "    return {\n",
    "        'current_price': current_price,\n",
    "        'conservative_target': conservative_target,\n",
    "        'aggressive_target': aggressive_target,\n",
    "        'average_price': avg_price\n",
    "    }"
   ]
  },
  {
   "cell_type": "code",
   "execution_count": 36,
   "id": "ad8e16d4-9758-4a14-a7c9-cbf4143711b5",
   "metadata": {},
   "outputs": [
    {
     "data": {
      "text/plain": [
       "{'current_price': 235.53,\n",
       " 'conservative_target': 253.54512,\n",
       " 'aggressive_target': 264.67488,\n",
       " 'average_price': 221.40829961736645}"
      ]
     },
     "execution_count": 36,
     "metadata": {},
     "output_type": "execute_result"
    }
   ],
   "source": [
    "get_simple_target(\"AAPL\")"
   ]
  },
  {
   "cell_type": "code",
   "execution_count": 37,
   "id": "de34f657-5707-4f14-8e07-922920ff2066",
   "metadata": {},
   "outputs": [],
   "source": [
    "# get_simple_target(\"AAPL\")"
   ]
  }
 ],
 "metadata": {
  "kernelspec": {
   "display_name": "Python 3 (ipykernel)",
   "language": "python",
   "name": "python3"
  },
  "language_info": {
   "codemirror_mode": {
    "name": "ipython",
    "version": 3
   },
   "file_extension": ".py",
   "mimetype": "text/x-python",
   "name": "python",
   "nbconvert_exporter": "python",
   "pygments_lexer": "ipython3",
   "version": "3.12.1"
  }
 },
 "nbformat": 4,
 "nbformat_minor": 5
}
